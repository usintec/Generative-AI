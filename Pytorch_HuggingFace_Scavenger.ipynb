{
  "nbformat": 4,
  "nbformat_minor": 0,
  "metadata": {
    "colab": {
      "provenance": [],
      "authorship_tag": "ABX9TyN3sodXmMJSbFNzRj2FGIwP",
      "include_colab_link": true
    },
    "kernelspec": {
      "name": "python3",
      "display_name": "Python 3"
    },
    "language_info": {
      "name": "python"
    }
  },
  "cells": [
    {
      "cell_type": "markdown",
      "metadata": {
        "id": "view-in-github",
        "colab_type": "text"
      },
      "source": [
        "<a href=\"https://colab.research.google.com/github/usintec/Generative-AI/blob/master/Pytorch_HuggingFace_Scavenger.ipynb\" target=\"_parent\"><img src=\"https://colab.research.google.com/assets/colab-badge.svg\" alt=\"Open In Colab\"/></a>"
      ]
    },
    {
      "cell_type": "markdown",
      "source": [
        "**PyTorch and HuggingFace scavenger hunt!**\n",
        "PyTorch and HuggingFace have emerged as powerful tools for developing and deploying neural networks.\n",
        "\n",
        "In this scavenger hunt, we will explore the capabilities of PyTorch and HuggingFace, uncovering hidden treasures on the way.\n",
        "\n",
        "We have two parts:\n",
        "\n",
        "Familiarize yourself with PyTorch\n",
        "Get to know HuggingFace"
      ],
      "metadata": {
        "id": "ifYqH6rSCzR0"
      }
    },
    {
      "cell_type": "markdown",
      "source": [
        "**Familiarize yourself with PyTorch**\n",
        "Learn the basics of PyTorch, including tensors, neural net parts, loss functions, and optimizers. This will provide a foundation for understanding and utilizing its capabilities in developing and training neural networks."
      ],
      "metadata": {
        "id": "14H1M2cOC-Ag"
      }
    },
    {
      "cell_type": "markdown",
      "source": [
        "**PyTorch tensors**\n",
        "Scan through the PyTorch tensors documentation here. Be sure to look at the examples.\n",
        "\n",
        "In the following cell, create a tensor named my_tensor of size 3x3 with values of your choice. The tensor should be created on the GPU if available. Print the tensor."
      ],
      "metadata": {
        "id": "WHwRP38SDDVk"
      }
    },
    {
      "cell_type": "code",
      "execution_count": 1,
      "metadata": {
        "id": "74wUk8uMCEyw",
        "colab": {
          "base_uri": "https://localhost:8080/"
        },
        "outputId": "f31b8b86-f690-432c-d457-bf89f22f7e24"
      },
      "outputs": [
        {
          "output_type": "stream",
          "name": "stdout",
          "text": [
            "tensor([[1, 2, 3],\n",
            "        [4, 5, 6],\n",
            "        [7, 8, 9]])\n"
          ]
        }
      ],
      "source": [
        "# Fill in the missing parts labelled <MASK> with the appropriate code to complete the exercise.\n",
        "\n",
        "# Hint: Use torch.cuda.is_available() to check if GPU is available\n",
        "\n",
        "import torch\n",
        "\n",
        "# Set the device to be used for the tensor\n",
        "device = torch.device('cuda' if torch.cuda.is_available() else 'cpu')\n",
        "\n",
        "# Create a tensor on the appropriate device\n",
        "my_tensor = torch.tensor([[1, 2, 3], [4, 5, 6], [7, 8, 9]], device=device)\n",
        "\n",
        "# Print the tensor\n",
        "print(my_tensor)"
      ]
    },
    {
      "cell_type": "code",
      "source": [
        "# Check the previous cell\n",
        "\n",
        "assert my_tensor.device.type in {\"cuda\", \"cpu\"}\n",
        "assert my_tensor.shape == (3, 3)\n",
        "\n",
        "print(\"Success!\")"
      ],
      "metadata": {
        "colab": {
          "base_uri": "https://localhost:8080/"
        },
        "id": "4lPVCosGDhnZ",
        "outputId": "15c2934a-1e36-45e6-b177-f24b6a1846f2"
      },
      "execution_count": 2,
      "outputs": [
        {
          "output_type": "stream",
          "name": "stdout",
          "text": [
            "Success!\n"
          ]
        }
      ]
    },
    {
      "cell_type": "markdown",
      "source": [
        "### Neural Net Constructor Kit `torch.nn`\n",
        "\n",
        "You can think of the `torch.nn` ([documentation](https://pytorch.org/docs/stable/nn.html)) module as a constructor kit for neural networks. It provides the building blocks for creating neural networks, including layers, activation functions, loss functions, and more.\n",
        "\n",
        "Instructions:\n",
        "\n",
        "Create a three layer Multi-Layer Perceptron (MLP) neural network with the following specifications:\n",
        "\n",
        "- Input layer: 784 neurons\n",
        "- Hidden layer: 128 neurons\n",
        "- Output layer: 10 neurons\n",
        "\n",
        "Use the ReLU activation function for the hidden layer and the softmax activation function for the output layer. Print the neural network.\n",
        "\n",
        "Hint: MLP's use \"fully-connected\" or \"dense\" layers. In PyTorch's `nn` module, this type of layer has a different name. See the examples in [this tutorial](https://pytorch.org/tutorials/recipes/recipes/defining_a_neural_network.html) to find out more."
      ],
      "metadata": {
        "id": "aXsv1_YuD7fl"
      }
    },
    {
      "cell_type": "code",
      "source": [
        "# Replace <MASK> with the appropriate code to complete the exercise.\n",
        "\n",
        "import torch.nn as nn\n",
        "\n",
        "\n",
        "class MyMLP(nn.Module):\n",
        "    \"\"\"My Multilayer Perceptron (MLP)\n",
        "\n",
        "    Specifications:\n",
        "\n",
        "        - Input layer: 784 neurons\n",
        "        - Hidden layer: 128 neurons with ReLU activation\n",
        "        - Output layer: 10 neurons with softmax activation\n",
        "\n",
        "    \"\"\"\n",
        "\n",
        "    def __init__(self):\n",
        "        super(MyMLP, self).__init__()\n",
        "        self.fc1 = nn.Linear(784, 128)\n",
        "        self.fc2 = nn.Linear(128, 10)\n",
        "        self.relu = nn.ReLU()\n",
        "        self.softmax = nn.Softmax(dim=1)\n",
        "\n",
        "    def forward(self, x):\n",
        "        # Pass the input to the second layer\n",
        "        x = self.fc1(x)\n",
        "\n",
        "        # Apply ReLU activation\n",
        "        x = self.relu(x)\n",
        "\n",
        "        # Pass the result to the final layer\n",
        "        x = self.fc2(x)\n",
        "\n",
        "        # Apply softmax activation\n",
        "        x = self.softmax(x)\n",
        "\n",
        "        return x\n",
        "\n",
        "\n",
        "my_mlp = MyMLP()\n",
        "print(my_mlp)"
      ],
      "metadata": {
        "colab": {
          "base_uri": "https://localhost:8080/"
        },
        "id": "w4zpJp8rHU34",
        "outputId": "f8da4cb6-030e-4dd9-abd4-2cf04c13810d"
      },
      "execution_count": 9,
      "outputs": [
        {
          "output_type": "stream",
          "name": "stdout",
          "text": [
            "MyMLP(\n",
            "  (fc1): Linear(in_features=784, out_features=128, bias=True)\n",
            "  (fc2): Linear(in_features=128, out_features=10, bias=True)\n",
            "  (relu): ReLU()\n",
            "  (softmax): Softmax(dim=1)\n",
            ")\n"
          ]
        }
      ]
    },
    {
      "cell_type": "code",
      "source": [
        "# Check your work here:\n",
        "\n",
        "\n",
        "# Check the number of inputs\n",
        "assert my_mlp.fc1.in_features == 784\n",
        "\n",
        "# Check the number of outputs\n",
        "assert my_mlp.fc2.out_features == 10\n",
        "\n",
        "# Check the number of nodes in the hidden layer\n",
        "assert my_mlp.fc1.out_features == 128\n",
        "\n",
        "# Check that my_mlp.fc1 is a fully connected layer\n",
        "assert isinstance(my_mlp.fc1, nn.Linear)\n",
        "\n",
        "# Check that my_mlp.fc2 is a fully connected layer\n",
        "assert isinstance(my_mlp.fc2, nn.Linear)"
      ],
      "metadata": {
        "id": "jqwNKYW2K6Gu"
      },
      "execution_count": 5,
      "outputs": []
    },
    {
      "cell_type": "markdown",
      "source": [
        "**PyTorch Loss Functions and Optimizers**\n",
        "PyTorch comes with a number of built-in loss functions and optimizers that can be used to train neural networks. The loss functions are implemented in the torch.nn (documentation) module, while the optimizers are implemented in the torch.optim (documentation) module.\n",
        "\n",
        "Instructions:\n",
        "\n",
        "Create a loss function using the torch.nn.CrossEntropyLoss (documentation) class.\n",
        "Create an optimizer using the torch.optim.SGD (documentation) class with a learning rate of 0.01."
      ],
      "metadata": {
        "id": "U_q43bt_LQww"
      }
    },
    {
      "cell_type": "code",
      "source": [
        "# Replace <MASK> with the appropriate code to complete the exercise.\n",
        "\n",
        "# Loss function\n",
        "loss_fn = nn.CrossEntropyLoss()\n",
        "# Optimizer (by convention we use the variable optimizer)\n",
        "optimizer = torch.optim.SGD(my_mlp.parameters(), lr=0.01)"
      ],
      "metadata": {
        "id": "mQYvp5tILTkf"
      },
      "execution_count": 6,
      "outputs": []
    },
    {
      "cell_type": "code",
      "source": [
        "# Check\n",
        "\n",
        "assert isinstance(\n",
        "    loss_fn, nn.CrossEntropyLoss\n",
        "), \"loss_fn should be an instance of CrossEntropyLoss\"\n",
        "assert isinstance(optimizer, torch.optim.SGD), \"optimizer should be an instance of SGD\"\n",
        "assert optimizer.defaults[\"lr\"] == 0.01, \"learning rate should be 0.01\"\n",
        "assert optimizer.param_groups[0][\"params\"] == list(\n",
        "    my_mlp.parameters()\n",
        "), \"optimizer should be passed the MLP parameters\""
      ],
      "metadata": {
        "id": "o5wzEKVqMMHl"
      },
      "execution_count": 7,
      "outputs": []
    },
    {
      "cell_type": "markdown",
      "source": [
        "**PyTorch Training Loops**\n",
        "PyTorch makes writing a training loop easy!\n",
        "\n",
        "Instructions:"
      ],
      "metadata": {
        "id": "rZknAVJuMsQ2"
      }
    },
    {
      "cell_type": "code",
      "source": [
        "# Replace <MASK> with the appropriate code to complete the exercise.\n",
        "\n",
        "def fake_training_loaders():\n",
        "    for _ in range(30):\n",
        "        yield torch.randn(64, 784), torch.randint(0, 10, (64,))\n",
        "\n",
        "\n",
        "for epoch in range(3):\n",
        "    # Create a training loop\n",
        "    for i, data in enumerate(fake_training_loaders()):\n",
        "        # Every data instance is an input + label pair\n",
        "        x, y = data\n",
        "\n",
        "        # Zero your gradients for every batch!\n",
        "        optimizer.zero_grad()\n",
        "\n",
        "        # Forward pass (predictions)\n",
        "        y_pred = my_mlp(x)\n",
        "\n",
        "\n",
        "        # Compute the loss and its gradients\n",
        "        loss = loss_fn(y_pred, y)\n",
        "        loss.backward()\n",
        "\n",
        "        # Adjust learning weights\n",
        "        optimizer.step()\n",
        "\n",
        "        if i % 10 == 0:\n",
        "            print(f\"Epoch {epoch}, batch {i}: {loss.item():.5f}\")"
      ],
      "metadata": {
        "colab": {
          "base_uri": "https://localhost:8080/"
        },
        "id": "FCaNZD13Mu4h",
        "outputId": "d364a5a3-1d38-46b0-823c-bc02786680ab"
      },
      "execution_count": 8,
      "outputs": [
        {
          "output_type": "stream",
          "name": "stderr",
          "text": [
            "/usr/local/lib/python3.11/dist-packages/torch/nn/modules/module.py:1736: UserWarning: Implicit dimension choice for softmax has been deprecated. Change the call to include dim=X as an argument.\n",
            "  return self._call_impl(*args, **kwargs)\n"
          ]
        },
        {
          "output_type": "stream",
          "name": "stdout",
          "text": [
            "Epoch 0, batch 0: 2.30414\n",
            "Epoch 0, batch 10: 2.30158\n",
            "Epoch 0, batch 20: 2.30070\n",
            "Epoch 1, batch 0: 2.30352\n",
            "Epoch 1, batch 10: 2.30187\n",
            "Epoch 1, batch 20: 2.29443\n",
            "Epoch 2, batch 0: 2.30356\n",
            "Epoch 2, batch 10: 2.29709\n",
            "Epoch 2, batch 20: 2.30276\n"
          ]
        }
      ]
    },
    {
      "cell_type": "code",
      "source": [
        "# Check\n",
        "\n",
        "assert abs(loss.item() - 2.3) < 0.1, \"the loss should be around 2.3 with random data\""
      ],
      "metadata": {
        "id": "rIUlYytmTU2J"
      },
      "execution_count": null,
      "outputs": []
    },
    {
      "cell_type": "markdown",
      "source": [
        "Download a dataset from HuggingFace\n",
        "HuggingFace provides a number of datasets that can be used for a variety of tasks. In this exercise, we will use the imdb dataset and pass it to the model we instantiated in the previous exercise.\n",
        "\n",
        "Instructions:\n",
        "\n",
        "Review the loading a dataset documentation\n",
        "Fill in the blanks"
      ],
      "metadata": {
        "id": "TQl1OhjUVhHJ"
      }
    }
  ]
}